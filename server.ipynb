{
 "cells": [
  {
   "cell_type": "code",
   "execution_count": 1,
   "metadata": {},
   "outputs": [
    {
     "name": "stderr",
     "output_type": "stream",
     "text": [
      "Using TensorFlow backend.\n"
     ]
    }
   ],
   "source": [
    "import pandas as pd\n",
    "import numpy as np\n",
    "import matplotlib\n",
    "import matplotlib.pyplot as plt\n",
    "import requests\n",
    "from keras.utils import to_categorical\n",
    "from sklearn.model_selection import train_test_split\n",
    "from keras.models import model_from_json\n",
    "import cv2\n",
    "import base64\n",
    "import socket"
   ]
  },
  {
   "cell_type": "code",
   "execution_count": 2,
   "metadata": {},
   "outputs": [
    {
     "name": "stdout",
     "output_type": "stream",
     "text": [
      "WARNING:tensorflow:From F:\\Anaconda3\\lib\\site-packages\\keras\\backend\\tensorflow_backend.py:4070: The name tf.nn.max_pool is deprecated. Please use tf.nn.max_pool2d instead.\n",
      "\n",
      "Loaded model from disk\n",
      "{0: 'A', 1: 'B', 2: 'C', 3: 'D', 4: 'E', 5: 'F', 6: 'G', 7: 'H', 8: 'I', 9: 'J', 10: 'K', 11: 'L', 12: 'M', 13: 'N', 14: 'O', 15: 'P', 16: 'Q', 17: 'R', 18: 'S', 19: 'T', 20: 'U', 21: 'V', 22: 'W', 23: 'X', 24: 'Y'}\n"
     ]
    }
   ],
   "source": [
    "#loading trained model in notebook\n",
    "json_file = open('C:\\\\Users\\\\Admin\\\\Desktop\\\\soft tech project\\\\model.json','r')\n",
    "loaded_model_json = json_file.read()\n",
    "json_file.close()\n",
    "model = model_from_json(loaded_model_json)\n",
    "# load weights into new model\n",
    "model.load_weights(\"C:\\\\Users\\\\Admin\\\\Desktop\\\\soft tech project\\\\model.h5\")\n",
    "print(\"Loaded model from disk\")\n",
    "model.compile(loss='binary_crossentropy', optimizer='rmsprop', metrics=['accuracy'])\n",
    "output = {i:chr(i+65) for i in range(25)}\n",
    "print(output)"
   ]
  },
  {
   "cell_type": "code",
   "execution_count": 3,
   "metadata": {},
   "outputs": [],
   "source": [
    "def imageShow(img):\n",
    "    %matplotlib inline\n",
    "    import matplotlib.pyplot as plt\n",
    "    plt.imshow(img,cmap='gray')\n",
    "    plt.show()"
   ]
  },
  {
   "cell_type": "code",
   "execution_count": 6,
   "metadata": {},
   "outputs": [
    {
     "name": "stdout",
     "output_type": "stream",
     "text": [
      "SERVER LAPTOP-4VLR1O05 8001\n",
      "Connection Established\n",
      "Collecting data\n",
      "Collecting data\n",
      "Collecting data\n",
      "Collecting data\n",
      "Collecting data\n",
      "Collecting data\n",
      "Collecting data\n",
      "Collecting data\n",
      "Collecting data\n",
      "Collecting data\n",
      "Collecting data\n",
      "Collecting data\n",
      "DATA SIZE 40385\n",
      "IMAGE RECIEVED\n"
     ]
    }
   ],
   "source": [
    "sock=socket.socket() \n",
    "PORT = 8001\n",
    "HOST =socket.gethostname() \n",
    "sock.bind((\"192.168.43.114\", PORT))\n",
    "sock.listen(5)\n",
    "print(\"SERVER\",HOST,str(PORT))\n",
    "(clientsocket,address)=sock.accept()\n",
    "print(\"Connection Established\")\n",
    "running=True\n",
    "message=b\"\"\n",
    "while(running):\n",
    "    print(\"Collecting data\")\n",
    "    mess=clientsocket.recv(15000)\n",
    "    if not mess:\n",
    "        break\n",
    "    message=message+mess\n",
    "print(\"DATA SIZE\",len(message))\n",
    "imgdata = base64.b64decode(message)\n",
    "filename = 'handimage1.jpg'\n",
    "with open(filename, 'wb') as f:\n",
    "    f.write(imgdata)\n",
    "    f.close()\n",
    "    running=False\n",
    "    sock.close()\n",
    "    print(\"IMAGE RECIEVED\")"
   ]
  },
  {
   "cell_type": "code",
   "execution_count": 7,
   "metadata": {},
   "outputs": [
    {
     "data": {
      "image/png": "[encoded data removed]",
      "text/plain": [
       "<Figure size 432x288 with 1 Axes>"
      ]
     },
     "metadata": {
      "needs_background": "light"
     },
     "output_type": "display_data"
    },
    {
     "name": "stdout",
     "output_type": "stream",
     "text": [
      "SERVER LAPTOP-4VLR1O05 8001\n",
      "Connection Established\n"
     ]
    },
    {
     "data": {
      "text/plain": [
       "'W'"
      ]
     },
     "execution_count": 7,
     "metadata": {},
     "output_type": "execute_result"
    }
   ],
   "source": [
    "def determineLetter():\n",
    "    image = cv2.imread(\"handimage1.jpg\")\n",
    "    new = cv2.rotate(image,rotateCode = 0)\n",
    "    gimage = cv2.cvtColor(new, cv2.COLOR_BGR2GRAY)\n",
    "    image28=cv2.resize(gimage,(28,28))\n",
    "    imageShow(image28)\n",
    "    imagere = image28.reshape(1,28,28,1)\n",
    "    onehot=model.predict_classes(imagere)\n",
    "    sock=socket.socket() \n",
    "    PORT = 8001\n",
    "    HOST =socket.gethostname() \n",
    "    sock.bind((\"192.168.43.114\", PORT))\n",
    "    sock.listen(5)\n",
    "    print(\"SERVER\",HOST,str(PORT))\n",
    "    (clientsocket,address)=sock.accept()\n",
    "    print(\"Connection Established\")\n",
    "    message=\"\"+output[onehot[0]]\n",
    "    clientsocket.send(message.encode())\n",
    "    return output[onehot[0]]\n",
    "determineLetter()"
   ]
  },
  {
   "cell_type": "code",
   "execution_count": null,
   "metadata": {},
   "outputs": [],
   "source": []
  },
  {
   "cell_type": "code",
   "execution_count": null,
   "metadata": {},
   "outputs": [],
   "source": []
  }
 ],
 "metadata": {
  "kernelspec": {
   "display_name": "Python 3",
   "language": "python",
   "name": "python3"
  },
  "language_info": {
   "codemirror_mode": {
    "name": "ipython",
    "version": 3
   },
   "file_extension": ".py",
   "mimetype": "text/x-python",
   "name": "python",
   "nbconvert_exporter": "python",
   "pygments_lexer": "ipython3",
   "version": "3.7.3"
  }
 },
 "nbformat": 4,
 "nbformat_minor": 2
}
